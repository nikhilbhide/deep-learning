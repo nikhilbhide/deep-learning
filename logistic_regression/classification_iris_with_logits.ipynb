{
  "nbformat": 4,
  "nbformat_minor": 0,
  "metadata": {
    "colab": {
      "name": "Logsitic Regression With Logits.ipynb",
      "provenance": [],
      "collapsed_sections": []
    },
    "kernelspec": {
      "name": "python3",
      "display_name": "Python 3"
    },
    "language_info": {
      "name": "python"
    }
  },
  "cells": [
    {
      "cell_type": "code",
      "metadata": {
        "id": "jxiw-I3JDT-l"
      },
      "source": [
        "from sklearn.datasets import load_iris\n",
        "import torch\n",
        "from sklearn.model_selection import train_test_split\n",
        "import matplotlib.pyplot as plt\n",
        "import numpy as np\n",
        "from sklearn.preprocessing import StandardScaler\n",
        "import torch.nn as nn\n",
        "import torch.functional as F"
      ],
      "execution_count": 10,
      "outputs": []
    },
    {
      "cell_type": "code",
      "metadata": {
        "id": "rJcfYqKHpE8A"
      },
      "source": [
        "# Load iris data\n",
        "data = load_iris()"
      ],
      "execution_count": 2,
      "outputs": []
    },
    {
      "cell_type": "code",
      "metadata": {
        "colab": {
          "base_uri": "https://localhost:8080/"
        },
        "id": "QQ8qcZdqpHOs",
        "outputId": "d95a5bff-66f0-4226-9b52-c4d832c57a7f"
      },
      "source": [
        "# Get features and targets\n",
        "X = data.data\n",
        "Y = data.target\n",
        "print(data.target_names)"
      ],
      "execution_count": 76,
      "outputs": [
        {
          "output_type": "stream",
          "name": "stdout",
          "text": [
            "['setosa' 'versicolor' 'virginica']\n"
          ]
        }
      ]
    },
    {
      "cell_type": "code",
      "metadata": {
        "id": "PMXbpdySpNTK"
      },
      "source": [
        "# Deep learning network would take the shape of d x n tensor  \n",
        "d = X.shape[1]\n",
        "n = X.shape[0]"
      ],
      "execution_count": 77,
      "outputs": []
    },
    {
      "cell_type": "code",
      "metadata": {
        "id": "1lMVGS23pZnJ"
      },
      "source": [
        "# Split data into train and test\n",
        "X_train, X_test, Y_train, Y_test = train_test_split(X, Y, test_size = 0.3)"
      ],
      "execution_count": 93,
      "outputs": []
    },
    {
      "cell_type": "code",
      "metadata": {
        "id": "NjZW__06JVoy"
      },
      "source": [
        "# Apply standard scaler on the features to transform features to new values\n",
        "# These values will have mean 0 and std of 1\n",
        "# This helps model to converge faster\n",
        "\n",
        "scaler = StandardScaler()\n",
        "X_train = scaler.fit_transform(X_train)\n",
        "X_test = scaler.transform(X_test)"
      ],
      "execution_count": 94,
      "outputs": []
    },
    {
      "cell_type": "code",
      "metadata": {
        "id": "VQjnORtB-pfu"
      },
      "source": [
        "# Convert numpy array into Tensor\n",
        "X_train = torch.from_numpy(X_train.astype(np.float32))\n",
        "X_test = torch.from_numpy(X_test.astype(np.float32))\n",
        "Y_train =torch.from_numpy(Y_train.astype(np.long))\n",
        "Y_test = torch.from_numpy(Y_test.astype(np.long))"
      ],
      "execution_count": 95,
      "outputs": []
    },
    {
      "cell_type": "code",
      "metadata": {
        "id": "rHm5U3U7-4Pp"
      },
      "source": [
        "# Define the model\n",
        "# As we are using CrossEntropyLoss, we do not require sof\n",
        "model = nn.Sequential(\n",
        "          nn.Linear(d, 3)\n",
        "        )"
      ],
      "execution_count": 117,
      "outputs": []
    },
    {
      "cell_type": "code",
      "metadata": {
        "id": "j3XC6iiK_oYK"
      },
      "source": [
        "# Define criterion and optimizer\n",
        "criterion = nn.CrossEntropyLoss()\n",
        "optimizer = torch.optim.Adam(model.parameters(), lr = 0.003)"
      ],
      "execution_count": 118,
      "outputs": []
    },
    {
      "cell_type": "code",
      "metadata": {
        "id": "yWgigC2lsLZ8",
        "outputId": "3de4fd6e-6881-4ff0-ba5a-6ea5a330cc9f",
        "colab": {
          "base_uri": "https://localhost:8080/"
        }
      },
      "source": [
        "n_epochs = 1000\n",
        "train_losses = []\n",
        "test_losses = []\n",
        "accuracy = []\n",
        "\n",
        "for epoch in range(n_epochs):\n",
        "  optimizer.zero_grad()\n",
        "\n",
        "  # Perform forward propagation\n",
        "  output = model(X_train)\n",
        "  train_loss = criterion(output, Y_train)\n",
        "  \n",
        "  # Measure test loss\n",
        "  output_test = model(X_test)\n",
        "  test_loss = criterion(output_test, Y_test)\n",
        "\n",
        "  # Perform backward propagation and update parameters\n",
        "  train_loss.backward()\n",
        "  optimizer.step()\n",
        "  \n",
        "  if (epoch+1)%50 == 0:\n",
        "    pred = torch.argmax(output, dim = 1)\n",
        "    correct = pred.eq(Y_train)\n",
        "    acc = torch.mean(correct.float())\n",
        "    accuracy.append(acc)\n",
        "    train_losses.append(train_loss.item())\n",
        "    test_losses.append(test_loss.item())\n",
        "    print(f' Epoch: {epoch+1}/{n_epochs} train_loss: {train_loss.item():.2f} test_loss: {test_loss.item():.2f} traing_accuracy: {acc:.2f}')\n"
      ],
      "execution_count": 119,
      "outputs": [
        {
          "output_type": "stream",
          "name": "stdout",
          "text": [
            " Epoch: 50/1000 train_loss: 1.19 test_loss: 1.24 traing_accuracy: 0.28\n",
            " Epoch: 100/1000 train_loss: 0.88 test_loss: 0.90 traing_accuracy: 0.75\n",
            " Epoch: 150/1000 train_loss: 0.69 test_loss: 0.73 traing_accuracy: 0.86\n",
            " Epoch: 200/1000 train_loss: 0.59 test_loss: 0.63 traing_accuracy: 0.85\n",
            " Epoch: 250/1000 train_loss: 0.52 test_loss: 0.57 traing_accuracy: 0.86\n",
            " Epoch: 300/1000 train_loss: 0.47 test_loss: 0.53 traing_accuracy: 0.87\n",
            " Epoch: 350/1000 train_loss: 0.43 test_loss: 0.49 traing_accuracy: 0.88\n",
            " Epoch: 400/1000 train_loss: 0.40 test_loss: 0.47 traing_accuracy: 0.90\n",
            " Epoch: 450/1000 train_loss: 0.37 test_loss: 0.45 traing_accuracy: 0.91\n",
            " Epoch: 500/1000 train_loss: 0.35 test_loss: 0.43 traing_accuracy: 0.92\n",
            " Epoch: 550/1000 train_loss: 0.33 test_loss: 0.41 traing_accuracy: 0.93\n",
            " Epoch: 600/1000 train_loss: 0.31 test_loss: 0.40 traing_accuracy: 0.96\n",
            " Epoch: 650/1000 train_loss: 0.29 test_loss: 0.38 traing_accuracy: 0.96\n",
            " Epoch: 700/1000 train_loss: 0.27 test_loss: 0.37 traing_accuracy: 0.96\n",
            " Epoch: 750/1000 train_loss: 0.26 test_loss: 0.36 traing_accuracy: 0.96\n",
            " Epoch: 800/1000 train_loss: 0.25 test_loss: 0.35 traing_accuracy: 0.96\n",
            " Epoch: 850/1000 train_loss: 0.23 test_loss: 0.34 traing_accuracy: 0.96\n",
            " Epoch: 900/1000 train_loss: 0.22 test_loss: 0.33 traing_accuracy: 0.96\n",
            " Epoch: 950/1000 train_loss: 0.21 test_loss: 0.32 traing_accuracy: 0.96\n",
            " Epoch: 1000/1000 train_loss: 0.20 test_loss: 0.31 traing_accuracy: 0.96\n"
          ]
        }
      ]
    },
    {
      "cell_type": "code",
      "metadata": {
        "id": "q7mGPGtTKSR3",
        "outputId": "3e25054a-215b-4389-870b-3c597424deca",
        "colab": {
          "base_uri": "https://localhost:8080/",
          "height": 281
        }
      },
      "source": [
        "plt.plot(train_losses, label = 'Train Loss')\n",
        "plt.plot(test_losses, label = 'Test Loss')\n",
        "plt.legend()\n",
        "plt.title('Training loss vs Test loss')\n",
        "plt.show()"
      ],
      "execution_count": 121,
      "outputs": [
        {
          "output_type": "display_data",
          "data": {
            "image/png": "[encoded data removed]",
            "text/plain": [
              "<Figure size 432x288 with 1 Axes>"
            ]
          },
          "metadata": {
            "needs_background": "light"
          }
        }
      ]
    },
    {
      "cell_type": "code",
      "metadata": {
        "id": "OpRltPAcG6kr",
        "outputId": "c300199b-039d-4621-da71-be5a91c111fc",
        "colab": {
          "base_uri": "https://localhost:8080/"
        }
      },
      "source": [
        "test_accuracy = []\n",
        "model.eval()\n",
        "with torch.no_grad():\n",
        "  test_output = model(X_test)\n",
        "  test_pred = torch.argmax(test_output, dim = 1)\n",
        "  correct = test_pred.eq(Y_test)\n",
        "  test_acc = torch.mean(correct.float())\n",
        "print(f'Validation data accuracy: {test_acc:.2f}')"
      ],
      "execution_count": 130,
      "outputs": [
        {
          "output_type": "stream",
          "name": "stdout",
          "text": [
            "Validation data accuracy: 0.93\n"
          ]
        }
      ]
    }
  ]
}